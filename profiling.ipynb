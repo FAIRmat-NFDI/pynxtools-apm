{
 "cells": [
  {
   "cell_type": "code",
   "execution_count": 5,
   "id": "a8cd6ef5-2381-41cf-93a8-0835787e5921",
   "metadata": {},
   "outputs": [
    {
     "name": "stdout",
     "output_type": "stream",
     "text": [
      "/home/kaiobach/Research/hu_hu_hu/sprint19/apm/pynxtools_apm\n"
     ]
    }
   ],
   "source": [
    "from pyinstrument import Profiler\n",
    "import os\n",
    "print(os.getcwd())\n",
    "from pynxtools.dataconverter.convert import convert"
   ]
  },
  {
   "cell_type": "code",
   "execution_count": 12,
   "id": "09940a8a-b3fb-49d8-af52-bcd205b158c6",
   "metadata": {},
   "outputs": [
    {
     "name": "stderr",
     "output_type": "stream",
     "text": [
      "Using apm reader to convert the given files:  \n",
      "• /home/kaiobach/Research/paper_paper_paper/joss_nomad_apt/bb_analysis/analysis/harvest_examples/production/ErMnO_pole.pos\n",
      "• /home/kaiobach/Research/paper_paper_paper/joss_nomad_apt/bb_analysis/analysis/harvest_examples/production/ErMnO.env\n",
      "• /home/kaiobach/Research/hu_hu_hu/sprint19/apm/pynxtools_apm/debug/apm.oasis.specific.yaml\n",
      "• /home/kaiobach/Research/hu_hu_hu/sprint19/apm/pynxtools_apm/debug/eln_data_apm.yaml\n"
     ]
    },
    {
     "name": "stdout",
     "output_type": "stream",
     "text": [
      "Parse ELN and technology partner file(s)...\n",
      "self.supported_file_name_suffixes: ['.apt', '.pos', '.epos', '.ato', '.csv', '.h5', '.rng', '.rrng', '.env', '.fig.txt', 'range_.h5', '.analysis', '.yaml', '.yml']\n",
      "('/home/kaiobach/Research/paper_paper_paper/joss_nomad_apt/bb_analysis/analysis/harvest_examples/production/ErMnO_pole.pos', '/home/kaiobach/Research/paper_paper_paper/joss_nomad_apt/bb_analysis/analysis/harvest_examples/production/ErMnO.env', '/home/kaiobach/Research/hu_hu_hu/sprint19/apm/pynxtools_apm/debug/apm.oasis.specific.yaml', '/home/kaiobach/Research/hu_hu_hu/sprint19/apm/pynxtools_apm/debug/eln_data_apm.yaml')\n",
      "recon_results: ['/home/kaiobach/Research/paper_paper_paper/joss_nomad_apt/bb_analysis/analysis/harvest_examples/production/ErMnO_pole.pos']\n",
      "range_results: ['/home/kaiobach/Research/paper_paper_paper/joss_nomad_apt/bb_analysis/analysis/harvest_examples/production/ErMnO.env']\n",
      "Oasis ELN: ['/home/kaiobach/Research/hu_hu_hu/sprint19/apm/pynxtools_apm/debug/eln_data_apm.yaml']\n",
      "Oasis local config: ['/home/kaiobach/Research/hu_hu_hu/sprint19/apm/pynxtools_apm/debug/apm.oasis.specific.yaml']\n",
      "\n",
      "Parse (meta)data coming from a configuration of an RDM...\n",
      "Extracting data from deployment-specific configuration file: /home/kaiobach/Research/hu_hu_hu/sprint19/apm/pynxtools_apm/debug/apm.oasis.specific.yaml\n",
      "Parse (meta)data coming from an ELN...\n",
      "Extracting data from ELN file: /home/kaiobach/Research/hu_hu_hu/sprint19/apm/pynxtools_apm/debug/eln_data_apm.yaml\n",
      "Parse (meta)data from a reconstructed dataset file...\n",
      "Extracting data from POS file: /home/kaiobach/Research/paper_paper_paper/joss_nomad_apt/bb_analysis/analysis/harvest_examples/production/ErMnO_pole.pos\n",
      "Parse (meta)data from a ranging definitions file...\n",
      "Extracting data from ENV file: /home/kaiobach/Research/paper_paper_paper/joss_nomad_apt/bb_analysis/analysis/harvest_examples/production/ErMnO.env\n"
     ]
    },
    {
     "name": "stderr",
     "output_type": "stream",
     "text": [
      "The data entry corresponding to /ENTRY[entry]/coordinate_system_set/COORDINATE_SYSTEM[coordinate_system]/origin is required and hasn't been supplied by the reader.\n",
      "The data entry corresponding to /ENTRY[entry]/coordinate_system_set/COORDINATE_SYSTEM[coordinate_system]/alias is required and hasn't been supplied by the reader.\n",
      "The data entry corresponding to /ENTRY[entry]/coordinate_system_set/COORDINATE_SYSTEM[coordinate_system]/type is required and hasn't been supplied by the reader.\n",
      "The data entry corresponding to /ENTRY[entry]/coordinate_system_set/COORDINATE_SYSTEM[coordinate_system]/handedness is required and hasn't been supplied by the reader.\n",
      "The data entry corresponding to /ENTRY[entry]/coordinate_system_set/COORDINATE_SYSTEM[coordinate_system]/x_direction is required and hasn't been supplied by the reader.\n",
      "The data entry corresponding to /ENTRY[entry]/coordinate_system_set/COORDINATE_SYSTEM[coordinate_system]/y_direction is required and hasn't been supplied by the reader.\n",
      "The data entry corresponding to /ENTRY[entry]/coordinate_system_set/COORDINATE_SYSTEM[coordinate_system]/z_direction is required and hasn't been supplied by the reader.\n"
     ]
    },
    {
     "name": "stdout",
     "output_type": "stream",
     "text": [
      "/home/kaiobach/Research/paper_paper_paper/joss_nomad_apt/bb_analysis/analysis/harvest_examples/production/ErMnO.env parsed successfully\n",
      "Auto-detecting elements from ranging 27 ion types...\n",
      "Unique atom numbers are: [8, 25, 68]\n",
      "Unique elements are: ['Er', 'Mn', 'O']\n",
      "Create NeXus default plottable data...\n",
      "Create default plots on-the-fly...\n",
      "m_z, xyz: True, True\n",
      "\tEnter mass spectrum computation, np.shape(m_z) (19878, 1)\n",
      "Plot mass spectrum at 0.01 Da binning was created.\n",
      "\tEnter histogram computation, np.shape(xyz) (19878, 3)\n",
      "reconstruction aabb3d\n",
      "\tx: [-4.98, 4.98]\n",
      "\ty: [-4.98, 4.98]\n",
      "\tz: [-4.9992676, 4.9992676]\n",
      "Default plot naive discretization 3D 1.0 nm^3.\n",
      "Forward instantiated template to the NXS writer...\n"
     ]
    },
    {
     "ename": "KeyboardInterrupt",
     "evalue": "",
     "output_type": "error",
     "traceback": [
      "\u001b[0;31m---------------------------------------------------------------------------\u001b[0m",
      "\u001b[0;31mKeyboardInterrupt\u001b[0m                         Traceback (most recent call last)",
      "Cell \u001b[0;32mIn[12], line 9\u001b[0m\n\u001b[1;32m      6\u001b[0m profiler \u001b[38;5;241m=\u001b[39m cProfile\u001b[38;5;241m.\u001b[39mProfile()\n\u001b[1;32m      7\u001b[0m profiler\u001b[38;5;241m.\u001b[39menable()\n\u001b[0;32m----> 9\u001b[0m \u001b[43mconvert\u001b[49m\u001b[43m(\u001b[49m\u001b[43minput_file\u001b[49m\u001b[38;5;241;43m=\u001b[39;49m\u001b[43m(\u001b[49m\u001b[38;5;124;43mf\u001b[39;49m\u001b[38;5;124;43m\"\u001b[39;49m\u001b[38;5;132;43;01m{\u001b[39;49;00m\u001b[43mdsrc\u001b[49m\u001b[38;5;132;43;01m}\u001b[39;49;00m\u001b[38;5;124;43m/ErMnO_pole.pos\u001b[39;49m\u001b[38;5;124;43m\"\u001b[39;49m\u001b[43m,\u001b[49m\u001b[43m \u001b[49m\u001b[38;5;124;43mf\u001b[39;49m\u001b[38;5;124;43m\"\u001b[39;49m\u001b[38;5;132;43;01m{\u001b[39;49;00m\u001b[43mdsrc\u001b[49m\u001b[38;5;132;43;01m}\u001b[39;49;00m\u001b[38;5;124;43m/ErMnO.env\u001b[39;49m\u001b[38;5;124;43m\"\u001b[39;49m\u001b[43m,\u001b[49m\u001b[43m \u001b[49m\u001b[38;5;124;43mf\u001b[39;49m\u001b[38;5;124;43m\"\u001b[39;49m\u001b[38;5;132;43;01m{\u001b[39;49;00m\u001b[43mesrc\u001b[49m\u001b[38;5;132;43;01m}\u001b[39;49;00m\u001b[38;5;124;43m/apm.oasis.specific.yaml\u001b[39;49m\u001b[38;5;124;43m\"\u001b[39;49m\u001b[43m,\u001b[49m\u001b[43m \u001b[49m\u001b[38;5;124;43mf\u001b[39;49m\u001b[38;5;124;43m\"\u001b[39;49m\u001b[38;5;132;43;01m{\u001b[39;49;00m\u001b[43mesrc\u001b[49m\u001b[38;5;132;43;01m}\u001b[39;49;00m\u001b[38;5;124;43m/eln_data_apm.yaml\u001b[39;49m\u001b[38;5;124;43m\"\u001b[39;49m\u001b[43m)\u001b[49m\u001b[43m,\u001b[49m\u001b[43m \u001b[49m\u001b[43mreader\u001b[49m\u001b[38;5;241;43m=\u001b[39;49m\u001b[38;5;124;43m\"\u001b[39;49m\u001b[38;5;124;43mapm\u001b[39;49m\u001b[38;5;124;43m\"\u001b[39;49m\u001b[43m,\u001b[49m\u001b[43m \u001b[49m\u001b[43mnxdl\u001b[49m\u001b[38;5;241;43m=\u001b[39;49m\u001b[38;5;124;43m\"\u001b[39;49m\u001b[38;5;124;43mNXapm\u001b[39;49m\u001b[38;5;124;43m\"\u001b[39;49m\u001b[43m,\u001b[49m\u001b[43m \u001b[49m\u001b[43moutput\u001b[49m\u001b[38;5;241;43m=\u001b[39;49m\u001b[38;5;124;43m\"\u001b[39;49m\u001b[38;5;124;43mdebug.nxs\u001b[39;49m\u001b[38;5;124;43m\"\u001b[39;49m\u001b[43m,\u001b[49m\n\u001b[1;32m     10\u001b[0m \u001b[43m        \u001b[49m\u001b[43mfair\u001b[49m\u001b[38;5;241;43m=\u001b[39;49m\u001b[38;5;28;43;01mFalse\u001b[39;49;00m\u001b[43m,\u001b[49m\u001b[43m \u001b[49m\u001b[43mundocumented\u001b[49m\u001b[38;5;241;43m=\u001b[39;49m\u001b[38;5;28;43;01mFalse\u001b[39;49;00m\u001b[43m,\u001b[49m\u001b[43m \u001b[49m\u001b[43mskip_verify\u001b[49m\u001b[38;5;241;43m=\u001b[39;49m\u001b[38;5;28;43;01mFalse\u001b[39;49;00m\u001b[43m,\u001b[49m\u001b[43m \u001b[49m\u001b[43mrequired\u001b[49m\u001b[38;5;241;43m=\u001b[39;49m\u001b[38;5;28;43;01mFalse\u001b[39;49;00m\u001b[43m)\u001b[49m\n\u001b[1;32m     12\u001b[0m profiler\u001b[38;5;241m.\u001b[39mdisable()\n\u001b[1;32m     13\u001b[0m stats \u001b[38;5;241m=\u001b[39m pstats\u001b[38;5;241m.\u001b[39mStats(profiler)\u001b[38;5;241m.\u001b[39msort_stats(\u001b[38;5;124m'\u001b[39m\u001b[38;5;124mcumtime\u001b[39m\u001b[38;5;124m'\u001b[39m)  \u001b[38;5;66;03m# 'ncalls')\u001b[39;00m\n",
      "File \u001b[0;32m~/Research/hu_hu_hu/sprint19/apm/.py3.11.5/lib/python3.11/site-packages/pynxtools/dataconverter/convert.py:256\u001b[0m, in \u001b[0;36mconvert\u001b[0;34m(input_file, reader, nxdl, output, fair, undocumented, skip_verify, required, **kwargs)\u001b[0m\n\u001b[1;32m    227\u001b[0m \u001b[38;5;250m\u001b[39m\u001b[38;5;124;03m\"\"\"The conversion routine that takes the input parameters and calls the necessary functions.\u001b[39;00m\n\u001b[1;32m    228\u001b[0m \n\u001b[1;32m    229\u001b[0m \u001b[38;5;124;03mParameters\u001b[39;00m\n\u001b[0;32m   (...)\u001b[0m\n\u001b[1;32m    251\u001b[0m \u001b[38;5;124;03mNone.\u001b[39;00m\n\u001b[1;32m    252\u001b[0m \u001b[38;5;124;03m\"\"\"\u001b[39;00m\n\u001b[1;32m    254\u001b[0m nxdl_root, nxdl_f_path \u001b[38;5;241m=\u001b[39m get_nxdl_root_and_path(nxdl)\n\u001b[0;32m--> 256\u001b[0m data \u001b[38;5;241m=\u001b[39m \u001b[43mtransfer_data_into_template\u001b[49m\u001b[43m(\u001b[49m\n\u001b[1;32m    257\u001b[0m \u001b[43m    \u001b[49m\u001b[43minput_file\u001b[49m\u001b[38;5;241;43m=\u001b[39;49m\u001b[43minput_file\u001b[49m\u001b[43m,\u001b[49m\n\u001b[1;32m    258\u001b[0m \u001b[43m    \u001b[49m\u001b[43mreader\u001b[49m\u001b[38;5;241;43m=\u001b[39;49m\u001b[43mreader\u001b[49m\u001b[43m,\u001b[49m\n\u001b[1;32m    259\u001b[0m \u001b[43m    \u001b[49m\u001b[43mnxdl_name\u001b[49m\u001b[38;5;241;43m=\u001b[39;49m\u001b[43mnxdl\u001b[49m\u001b[43m,\u001b[49m\n\u001b[1;32m    260\u001b[0m \u001b[43m    \u001b[49m\u001b[43mnxdl_root\u001b[49m\u001b[38;5;241;43m=\u001b[39;49m\u001b[43mnxdl_root\u001b[49m\u001b[43m,\u001b[49m\n\u001b[1;32m    261\u001b[0m \u001b[43m    \u001b[49m\u001b[43mskip_verify\u001b[49m\u001b[38;5;241;43m=\u001b[39;49m\u001b[43mskip_verify\u001b[49m\u001b[43m,\u001b[49m\n\u001b[1;32m    262\u001b[0m \u001b[43m    \u001b[49m\u001b[38;5;241;43m*\u001b[39;49m\u001b[38;5;241;43m*\u001b[39;49m\u001b[43mkwargs\u001b[49m\u001b[43m,\u001b[49m\n\u001b[1;32m    263\u001b[0m \u001b[43m\u001b[49m\u001b[43m)\u001b[49m\n\u001b[1;32m    265\u001b[0m \u001b[38;5;28;01mif\u001b[39;00m fair \u001b[38;5;129;01mand\u001b[39;00m data\u001b[38;5;241m.\u001b[39mundocumented\u001b[38;5;241m.\u001b[39mkeys():\n\u001b[1;32m    266\u001b[0m     logger\u001b[38;5;241m.\u001b[39mwarning(\n\u001b[1;32m    267\u001b[0m         \u001b[38;5;124m\"\u001b[39m\u001b[38;5;124mThere are undocumented paths in the template. This is not acceptable!\u001b[39m\u001b[38;5;124m\"\u001b[39m\n\u001b[1;32m    268\u001b[0m     )\n",
      "File \u001b[0;32m~/Research/hu_hu_hu/sprint19/apm/.py3.11.5/lib/python3.11/site-packages/pynxtools/dataconverter/convert.py:211\u001b[0m, in \u001b[0;36mtransfer_data_into_template\u001b[0;34m(input_file, reader, nxdl_name, nxdl_root, skip_verify, **kwargs)\u001b[0m\n\u001b[1;32m    207\u001b[0m data \u001b[38;5;241m=\u001b[39m data_reader()\u001b[38;5;241m.\u001b[39mread(  \u001b[38;5;66;03m# type: ignore[operator]\u001b[39;00m\n\u001b[1;32m    208\u001b[0m     template\u001b[38;5;241m=\u001b[39mTemplate(template), file_paths\u001b[38;5;241m=\u001b[39minput_file, \u001b[38;5;241m*\u001b[39m\u001b[38;5;241m*\u001b[39mkwargs\n\u001b[1;32m    209\u001b[0m )\n\u001b[1;32m    210\u001b[0m \u001b[38;5;28;01mif\u001b[39;00m \u001b[38;5;129;01mnot\u001b[39;00m skip_verify:\n\u001b[0;32m--> 211\u001b[0m     \u001b[43mhelpers\u001b[49m\u001b[38;5;241;43m.\u001b[39;49m\u001b[43mvalidate_data_dict\u001b[49m\u001b[43m(\u001b[49m\u001b[43mtemplate\u001b[49m\u001b[43m,\u001b[49m\u001b[43m \u001b[49m\u001b[43mdata\u001b[49m\u001b[43m,\u001b[49m\u001b[43m \u001b[49m\u001b[43mnxdl_root\u001b[49m\u001b[43m)\u001b[49m\n\u001b[1;32m    212\u001b[0m \u001b[38;5;28;01mreturn\u001b[39;00m data\n",
      "File \u001b[0;32m~/Research/hu_hu_hu/sprint19/apm/.py3.11.5/lib/python3.11/site-packages/pynxtools/dataconverter/helpers.py:619\u001b[0m, in \u001b[0;36mvalidate_data_dict\u001b[0;34m(template, data, nxdl_root)\u001b[0m\n\u001b[1;32m    612\u001b[0m \u001b[38;5;66;03m# Only check for validation in the NXDL if we did find the entry\u001b[39;00m\n\u001b[1;32m    613\u001b[0m \u001b[38;5;66;03m# otherwise we just pass it along\u001b[39;00m\n\u001b[1;32m    614\u001b[0m \u001b[38;5;28;01mif\u001b[39;00m (\n\u001b[1;32m    615\u001b[0m     elem \u001b[38;5;129;01mis\u001b[39;00m \u001b[38;5;129;01mnot\u001b[39;00m \u001b[38;5;28;01mNone\u001b[39;00m\n\u001b[1;32m    616\u001b[0m     \u001b[38;5;129;01mand\u001b[39;00m elem\u001b[38;5;241m.\u001b[39mattrib\u001b[38;5;241m.\u001b[39mget(\u001b[38;5;124m\"\u001b[39m\u001b[38;5;124mname\u001b[39m\u001b[38;5;124m\"\u001b[39m) \u001b[38;5;241m==\u001b[39m entry_name\n\u001b[1;32m    617\u001b[0m     \u001b[38;5;129;01mand\u001b[39;00m remove_namespace_from_tag(elem\u001b[38;5;241m.\u001b[39mtag) \u001b[38;5;129;01min\u001b[39;00m (\u001b[38;5;124m\"\u001b[39m\u001b[38;5;124mfield\u001b[39m\u001b[38;5;124m\"\u001b[39m, \u001b[38;5;124m\"\u001b[39m\u001b[38;5;124mattribute\u001b[39m\u001b[38;5;124m\"\u001b[39m)\n\u001b[1;32m    618\u001b[0m ):\n\u001b[0;32m--> 619\u001b[0m     \u001b[43mcheck_optionality_based_on_parent_group\u001b[49m\u001b[43m(\u001b[49m\n\u001b[1;32m    620\u001b[0m \u001b[43m        \u001b[49m\u001b[43mpath\u001b[49m\u001b[43m,\u001b[49m\u001b[43m \u001b[49m\u001b[43mnxdl_path\u001b[49m\u001b[43m,\u001b[49m\u001b[43m \u001b[49m\u001b[43mnxdl_root\u001b[49m\u001b[43m,\u001b[49m\u001b[43m \u001b[49m\u001b[43mdata\u001b[49m\u001b[43m,\u001b[49m\u001b[43m \u001b[49m\u001b[43mtemplate\u001b[49m\n\u001b[1;32m    621\u001b[0m \u001b[43m    \u001b[49m\u001b[43m)\u001b[49m\n\u001b[1;32m    623\u001b[0m     attrib \u001b[38;5;241m=\u001b[39m elem\u001b[38;5;241m.\u001b[39mattrib\n\u001b[1;32m    624\u001b[0m     nxdl_type \u001b[38;5;241m=\u001b[39m (\n\u001b[1;32m    625\u001b[0m         attrib[\u001b[38;5;124m\"\u001b[39m\u001b[38;5;124mtype\u001b[39m\u001b[38;5;124m\"\u001b[39m]\n\u001b[1;32m    626\u001b[0m         \u001b[38;5;28;01mif\u001b[39;00m \u001b[38;5;124m\"\u001b[39m\u001b[38;5;124mtype\u001b[39m\u001b[38;5;124m\"\u001b[39m \u001b[38;5;129;01min\u001b[39;00m attrib\u001b[38;5;241m.\u001b[39mkeys()\n\u001b[1;32m    627\u001b[0m         \u001b[38;5;28;01melse\u001b[39;00m \u001b[38;5;124m\"\u001b[39m\u001b[38;5;124mNXDL_TYPE_UNAVAILABLE\u001b[39m\u001b[38;5;124m\"\u001b[39m\n\u001b[1;32m    628\u001b[0m     )\n",
      "File \u001b[0;32m~/Research/hu_hu_hu/sprint19/apm/.py3.11.5/lib/python3.11/site-packages/pynxtools/dataconverter/helpers.py:477\u001b[0m, in \u001b[0;36mcheck_optionality_based_on_parent_group\u001b[0;34m(path, nxdl_path, nxdl_root, data, template)\u001b[0m\n\u001b[1;32m    473\u001b[0m \u001b[38;5;28;01mfor\u001b[39;00m optional_parent \u001b[38;5;129;01min\u001b[39;00m template[\u001b[38;5;124m\"\u001b[39m\u001b[38;5;124moptional_parents\u001b[39m\u001b[38;5;124m\"\u001b[39m]:\n\u001b[1;32m    474\u001b[0m     optional_parent_nxdl \u001b[38;5;241m=\u001b[39m convert_data_converter_dict_to_nxdl_path(optional_parent)\n\u001b[1;32m    475\u001b[0m     \u001b[38;5;28;01mif\u001b[39;00m is_nxdl_path_a_child(\n\u001b[1;32m    476\u001b[0m         nxdl_path, optional_parent_nxdl\n\u001b[0;32m--> 477\u001b[0m     ) \u001b[38;5;129;01mand\u001b[39;00m \u001b[38;5;129;01mnot\u001b[39;00m \u001b[43mall_required_children_are_set\u001b[49m\u001b[43m(\u001b[49m\u001b[43moptional_parent\u001b[49m\u001b[43m,\u001b[49m\u001b[43m \u001b[49m\u001b[43mdata\u001b[49m\u001b[43m,\u001b[49m\u001b[43m \u001b[49m\u001b[43mnxdl_root\u001b[49m\u001b[43m)\u001b[49m:\n\u001b[1;32m    478\u001b[0m         \u001b[38;5;28;01mraise\u001b[39;00m \u001b[38;5;167;01mLookupError\u001b[39;00m(\n\u001b[1;32m    479\u001b[0m             \u001b[38;5;124mf\u001b[39m\u001b[38;5;124m\"\u001b[39m\u001b[38;5;124mThe data entry, \u001b[39m\u001b[38;5;132;01m{\u001b[39;00mpath\u001b[38;5;132;01m}\u001b[39;00m\u001b[38;5;124m, has an optional parent, \u001b[39m\u001b[38;5;124m\"\u001b[39m\n\u001b[1;32m    480\u001b[0m             \u001b[38;5;124mf\u001b[39m\u001b[38;5;124m\"\u001b[39m\u001b[38;5;132;01m{\u001b[39;00moptional_parent\u001b[38;5;132;01m}\u001b[39;00m\u001b[38;5;124m, with required children set. Either\u001b[39m\u001b[38;5;124m\"\u001b[39m\n\u001b[1;32m    481\u001b[0m             \u001b[38;5;124mf\u001b[39m\u001b[38;5;124m\"\u001b[39m\u001b[38;5;124m provide no children for \u001b[39m\u001b[38;5;132;01m{\u001b[39;00moptional_parent\u001b[38;5;132;01m}\u001b[39;00m\u001b[38;5;124m or provide\u001b[39m\u001b[38;5;124m\"\u001b[39m\n\u001b[1;32m    482\u001b[0m             \u001b[38;5;124mf\u001b[39m\u001b[38;5;124m\"\u001b[39m\u001b[38;5;124m all required ones.\u001b[39m\u001b[38;5;124m\"\u001b[39m\n\u001b[1;32m    483\u001b[0m         )\n",
      "File \u001b[0;32m~/Research/hu_hu_hu/sprint19/apm/.py3.11.5/lib/python3.11/site-packages/pynxtools/dataconverter/helpers.py:451\u001b[0m, in \u001b[0;36mall_required_children_are_set\u001b[0;34m(optional_parent_path, data, nxdl_root)\u001b[0m\n\u001b[1;32m    445\u001b[0m         \u001b[38;5;28;01mcontinue\u001b[39;00m\n\u001b[1;32m    446\u001b[0m     nxdl_key \u001b[38;5;241m=\u001b[39m convert_data_converter_dict_to_nxdl_path(key)\n\u001b[1;32m    447\u001b[0m     \u001b[38;5;28;01mif\u001b[39;00m (\n\u001b[1;32m    448\u001b[0m         nxdl_key[\u001b[38;5;241m0\u001b[39m : nxdl_key\u001b[38;5;241m.\u001b[39mrfind(\u001b[38;5;124m\"\u001b[39m\u001b[38;5;124m/\u001b[39m\u001b[38;5;124m\"\u001b[39m)] \u001b[38;5;241m==\u001b[39m optional_parent_path\n\u001b[1;32m    449\u001b[0m         \u001b[38;5;129;01mand\u001b[39;00m is_node_required(nxdl_key, nxdl_root)\n\u001b[1;32m    450\u001b[0m         \u001b[38;5;129;01mand\u001b[39;00m data[\n\u001b[0;32m--> 451\u001b[0m             \u001b[43mpath_in_data_dict\u001b[49m\u001b[43m(\u001b[49m\n\u001b[1;32m    452\u001b[0m \u001b[43m                \u001b[49m\u001b[43mnxdl_key\u001b[49m\u001b[43m,\u001b[49m\u001b[43m \u001b[49m\u001b[43mconvert_data_dict_path_to_hdf5_path\u001b[49m\u001b[43m(\u001b[49m\u001b[43mkey\u001b[49m\u001b[43m)\u001b[49m\u001b[43m,\u001b[49m\u001b[43m \u001b[49m\u001b[43mdata\u001b[49m\n\u001b[1;32m    453\u001b[0m \u001b[43m            \u001b[49m\u001b[43m)\u001b[49m[\u001b[38;5;241m1\u001b[39m]\n\u001b[1;32m    454\u001b[0m         ]\n\u001b[1;32m    455\u001b[0m         \u001b[38;5;129;01mis\u001b[39;00m \u001b[38;5;28;01mNone\u001b[39;00m\n\u001b[1;32m    456\u001b[0m     ):\n\u001b[1;32m    457\u001b[0m         \u001b[38;5;28;01mreturn\u001b[39;00m \u001b[38;5;28;01mFalse\u001b[39;00m\n\u001b[1;32m    459\u001b[0m \u001b[38;5;28;01mreturn\u001b[39;00m \u001b[38;5;28;01mTrue\u001b[39;00m\n",
      "File \u001b[0;32m~/Research/hu_hu_hu/sprint19/apm/.py3.11.5/lib/python3.11/site-packages/pynxtools/dataconverter/helpers.py:398\u001b[0m, in \u001b[0;36mpath_in_data_dict\u001b[0;34m(nxdl_path, hdf_path, data)\u001b[0m\n\u001b[1;32m    394\u001b[0m accepted_unfilled_key \u001b[38;5;241m=\u001b[39m \u001b[38;5;28;01mNone\u001b[39;00m\n\u001b[1;32m    395\u001b[0m \u001b[38;5;28;01mfor\u001b[39;00m key \u001b[38;5;129;01min\u001b[39;00m data\u001b[38;5;241m.\u001b[39mkeys():\n\u001b[1;32m    396\u001b[0m     \u001b[38;5;28;01mif\u001b[39;00m (\n\u001b[1;32m    397\u001b[0m         nxdl_path \u001b[38;5;241m==\u001b[39m convert_data_converter_dict_to_nxdl_path(key)\n\u001b[0;32m--> 398\u001b[0m         \u001b[38;5;129;01mor\u001b[39;00m \u001b[43mconvert_data_dict_path_to_hdf5_path\u001b[49m\u001b[43m(\u001b[49m\u001b[43mkey\u001b[49m\u001b[43m)\u001b[49m \u001b[38;5;241m==\u001b[39m hdf_path\n\u001b[1;32m    399\u001b[0m     ):\n\u001b[1;32m    400\u001b[0m         \u001b[38;5;28;01mif\u001b[39;00m data[key] \u001b[38;5;129;01mis\u001b[39;00m \u001b[38;5;28;01mNone\u001b[39;00m:\n\u001b[1;32m    401\u001b[0m             accepted_unfilled_key \u001b[38;5;241m=\u001b[39m key\n",
      "File \u001b[0;32m~/Research/hu_hu_hu/sprint19/apm/.py3.11.5/lib/python3.11/site-packages/pynxtools/dataconverter/helpers.py:260\u001b[0m, in \u001b[0;36mconvert_data_dict_path_to_hdf5_path\u001b[0;34m(path)\u001b[0m\n\u001b[1;32m    258\u001b[0m hdf5path \u001b[38;5;241m=\u001b[39m \u001b[38;5;124m\"\u001b[39m\u001b[38;5;124m\"\u001b[39m\n\u001b[1;32m    259\u001b[0m \u001b[38;5;28;01mfor\u001b[39;00m entry \u001b[38;5;129;01min\u001b[39;00m path\u001b[38;5;241m.\u001b[39msplit(\u001b[38;5;124m\"\u001b[39m\u001b[38;5;124m/\u001b[39m\u001b[38;5;124m\"\u001b[39m)[\u001b[38;5;241m1\u001b[39m:]:\n\u001b[0;32m--> 260\u001b[0m     hdf5path \u001b[38;5;241m+\u001b[39m\u001b[38;5;241m=\u001b[39m \u001b[38;5;124m\"\u001b[39m\u001b[38;5;124m/\u001b[39m\u001b[38;5;124m\"\u001b[39m \u001b[38;5;241m+\u001b[39m \u001b[43mget_name_from_data_dict_entry\u001b[49m\u001b[43m(\u001b[49m\u001b[43mentry\u001b[49m\u001b[43m)\u001b[49m\n\u001b[1;32m    261\u001b[0m \u001b[38;5;28;01mreturn\u001b[39;00m hdf5path\n",
      "File \u001b[0;32m~/Research/hu_hu_hu/sprint19/apm/.py3.11.5/lib/python3.11/site-packages/pynxtools/dataconverter/helpers.py:244\u001b[0m, in \u001b[0;36mget_name_from_data_dict_entry\u001b[0;34m(entry)\u001b[0m\n\u001b[1;32m    239\u001b[0m \u001b[38;5;28;01mdef\u001b[39;00m \u001b[38;5;21mget_name_from_data_dict_entry\u001b[39m(entry: \u001b[38;5;28mstr\u001b[39m) \u001b[38;5;241m-\u001b[39m\u001b[38;5;241m>\u001b[39m \u001b[38;5;28mstr\u001b[39m:\n\u001b[1;32m    240\u001b[0m \u001b[38;5;250m    \u001b[39m\u001b[38;5;124;03m\"\"\"Helper function to get entry name from data converter style entry\u001b[39;00m\n\u001b[1;32m    241\u001b[0m \n\u001b[1;32m    242\u001b[0m \u001b[38;5;124;03m    ENTRY[entry] -> entry\u001b[39;00m\n\u001b[1;32m    243\u001b[0m \u001b[38;5;124;03m    \"\"\"\u001b[39;00m\n\u001b[0;32m--> 244\u001b[0m     regex \u001b[38;5;241m=\u001b[39m \u001b[43mre\u001b[49m\u001b[38;5;241;43m.\u001b[39;49m\u001b[43mcompile\u001b[49m\u001b[43m(\u001b[49m\u001b[38;5;124;43mr\u001b[39;49m\u001b[38;5;124;43m\"\u001b[39;49m\u001b[38;5;124;43m(?<=\u001b[39;49m\u001b[38;5;124;43m\\\u001b[39;49m\u001b[38;5;124;43m[)(.*?)(?=\u001b[39;49m\u001b[38;5;124;43m\\\u001b[39;49m\u001b[38;5;124;43m])\u001b[39;49m\u001b[38;5;124;43m\"\u001b[39;49m\u001b[43m)\u001b[49m\n\u001b[1;32m    245\u001b[0m     results \u001b[38;5;241m=\u001b[39m regex\u001b[38;5;241m.\u001b[39msearch(entry)\n\u001b[1;32m    246\u001b[0m     \u001b[38;5;28;01mif\u001b[39;00m results \u001b[38;5;129;01mis\u001b[39;00m \u001b[38;5;28;01mNone\u001b[39;00m:\n",
      "File \u001b[0;32m~/miniconda3/lib/python3.11/re/__init__.py:227\u001b[0m, in \u001b[0;36mcompile\u001b[0;34m(pattern, flags)\u001b[0m\n\u001b[1;32m    225\u001b[0m \u001b[38;5;28;01mdef\u001b[39;00m \u001b[38;5;21mcompile\u001b[39m(pattern, flags\u001b[38;5;241m=\u001b[39m\u001b[38;5;241m0\u001b[39m):\n\u001b[1;32m    226\u001b[0m     \u001b[38;5;124m\"\u001b[39m\u001b[38;5;124mCompile a regular expression pattern, returning a Pattern object.\u001b[39m\u001b[38;5;124m\"\u001b[39m\n\u001b[0;32m--> 227\u001b[0m     \u001b[38;5;28;01mreturn\u001b[39;00m \u001b[43m_compile\u001b[49m\u001b[43m(\u001b[49m\u001b[43mpattern\u001b[49m\u001b[43m,\u001b[49m\u001b[43m \u001b[49m\u001b[43mflags\u001b[49m\u001b[43m)\u001b[49m\n",
      "File \u001b[0;32m~/miniconda3/lib/python3.11/re/__init__.py:274\u001b[0m, in \u001b[0;36m_compile\u001b[0;34m(pattern, flags)\u001b[0m\n\u001b[1;32m    272\u001b[0m \u001b[38;5;28;01mdef\u001b[39;00m \u001b[38;5;21m_compile\u001b[39m(pattern, flags):\n\u001b[1;32m    273\u001b[0m     \u001b[38;5;66;03m# internal: compile pattern\u001b[39;00m\n\u001b[0;32m--> 274\u001b[0m     \u001b[38;5;28;01mif\u001b[39;00m \u001b[38;5;28;43misinstance\u001b[39;49m\u001b[43m(\u001b[49m\u001b[43mflags\u001b[49m\u001b[43m,\u001b[49m\u001b[43m \u001b[49m\u001b[43mRegexFlag\u001b[49m\u001b[43m)\u001b[49m:\n\u001b[1;32m    275\u001b[0m         flags \u001b[38;5;241m=\u001b[39m flags\u001b[38;5;241m.\u001b[39mvalue\n\u001b[1;32m    276\u001b[0m     \u001b[38;5;28;01mtry\u001b[39;00m:\n",
      "\u001b[0;31mKeyboardInterrupt\u001b[0m: "
     ]
    }
   ],
   "source": [
    "dsrc=\"/home/kaiobach/Research/paper_paper_paper/joss_nomad_apt/bb_analysis/analysis/harvest_examples/production\"\n",
    "esrc=f\"{os.getcwd()}/debug\"\n",
    "# ! dataconverter convert --help  # $dsrc/ErMnO_pole.pos $dsrc/ErMnO.env $esrc/apm.oasis.specific.yaml $esrc/eln_data_apm.yaml --reader apm --nxdl NXapm --output=debug.nor_trondheim_hatzeglou_0.nxs 1>stdout.debug.nor_trondheim_hatzeglou_0.txt 2>stderr.debug.nor_trondheim_hatzeglou_0.txt\n",
    "\n",
    "import cProfile, pstats\n",
    "profiler = cProfile.Profile()\n",
    "profiler.enable()\n",
    "\n",
    "convert(input_file=(f\"{dsrc}/ErMnO_pole.pos\", f\"{dsrc}/ErMnO.env\", f\"{esrc}/apm.oasis.specific.yaml\", f\"{esrc}/eln_data_apm.yaml\"), reader=\"apm\", nxdl=\"NXapm\", output=\"debug.nxs\",\n",
    "        fair=False, undocumented=False, skip_verify=False, required=False)\n",
    "\n",
    "profiler.disable()\n",
    "stats = pstats.Stats(profiler).sort_stats('cumtime')  # 'ncalls')\n",
    "stats.print_stats()"
   ]
  },
  {
   "cell_type": "code",
   "execution_count": null,
   "id": "0cb8b4ca-2d00-4e7f-8f71-3d4e36a33a82",
   "metadata": {},
   "outputs": [],
   "source": []
  }
 ],
 "metadata": {
  "kernelspec": {
   "display_name": "Python 3 (ipykernel)",
   "language": "python",
   "name": "python3"
  },
  "language_info": {
   "codemirror_mode": {
    "name": "ipython",
    "version": 3
   },
   "file_extension": ".py",
   "mimetype": "text/x-python",
   "name": "python",
   "nbconvert_exporter": "python",
   "pygments_lexer": "ipython3",
   "version": "3.11.5"
  }
 },
 "nbformat": 4,
 "nbformat_minor": 5
}
