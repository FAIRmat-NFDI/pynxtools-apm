{
 "cells": [
  {
   "cell_type": "markdown",
   "metadata": {},
   "source": [
    "# How to generate a synthetic dataset"
   ]
  },
  {
   "cell_type": "markdown",
   "metadata": {},
   "source": [
    "### **Optional:** Generate synthetic data for testing and development purposes"
   ]
  },
  {
   "cell_type": "markdown",
   "metadata": {},
   "source": [
    "<div class=\"alert alert-block alert-warning\">\n",
    "Currently, this functionality requires a Python environment with a newer version of the ase library than the one<br>\n",
    "which is used by the installation of pynxtools (which is currently ase==3.19.0). Instead, ase>=3.22.1 should be used.<br>\n",
    "The issue with the specific functionalities used in the *create_reconstructed_positions* function is that when using<br>\n",
    "ase==3.19.0 in combination with numpy>=1.2x uses the deprecated np.float data type.<br>\n",
    "Developers interested in creating synthetic data should locally install ase>=3.22.1<br>\n",
    "and then re-execute this notebook.<br>\n",
    "</div>"
   ]
  },
  {
   "cell_type": "code",
   "execution_count": null,
   "metadata": {},
   "outputs": [],
   "source": [
    "! pip list | grep ase*\n",
    "! pip list | grep numpy*"
   ]
  },
  {
   "cell_type": "markdown",
   "metadata": {},
   "source": [
    "The apm reader has a functionality to generate synthetic dataset which are meant for pursuing code development."
   ]
  },
  {
   "cell_type": "markdown",
   "metadata": {},
   "source": [
    "<div class=\"alert alert-block alert-warning\">\n",
    "This functionality uses recent features of ase which demands an environment that is not necessarily supported<br>\n",
    "by NOMAD Oasis. As the here exemplified settings for this example are configured to represent an environment<br>\n",
    "matching one which is close to NOMAD, users who are interested in this dev functionality should do the following:<br>\n",
    "Run this example in a standalone environment where ase is upgraded to the latest version and then use<br>\n",
    "the generated NeXus files either as is or upload them to NOMAD Oasis.<br>\n",
    "If the above-mentioned cell detects e.g. that a recent version of ase was installed<br>\n",
    "(e.g. >3.22.x) then the code in the following cell can be executed without issues.<br>\n",
    "</div>"
   ]
  },
  {
   "cell_type": "code",
   "execution_count": null,
   "metadata": {
    "tags": []
   },
   "outputs": [],
   "source": [
    "! dataconverter --reader apm --nxdl NXapm --input-file synthesize1 --output apm.case0.nxs"
   ]
  },
  {
   "cell_type": "code",
   "execution_count": null,
   "metadata": {},
   "outputs": [],
   "source": [
    "H5Web(\"apm.case0.nxs\")"
   ]
  },
  {
   "cell_type": "markdown",
   "metadata": {},
   "source": [
    "### Further comments:"
   ]
  },
  {
   "cell_type": "markdown",
   "metadata": {},
   "source": [
    "* Feel free to explore our atom probe microscopy containers in the north branch for more advanced processing"
   ]
  },
  {
   "cell_type": "markdown",
   "metadata": {},
   "source": [
    "### Contact person for the apm reader and related examples in FAIRmat:\n",
    "Markus Kühbach, 2023/08/31<br>\n",
    "\n",
    "### Funding\n",
    "<a href=\"https://www.fairmat-nfdi.eu/fairmat\">FAIRmat</a> is a consortium on research data management which is part of the German NFDI.<br>\n",
    "The project is funded by the Deutsche Forschungsgemeinschaft (DFG, German Research Foundation) – project 460197019."
   ]
  },
  {
   "cell_type": "code",
   "execution_count": null,
   "metadata": {},
   "outputs": [],
   "source": []
  }
 ],
 "metadata": {
  "kernelspec": {
   "display_name": "Python 3 (ipykernel)",
   "language": "python",
   "name": "python3"
  },
  "language_info": {
   "codemirror_mode": {
    "name": "ipython",
    "version": 3
   },
   "file_extension": ".py",
   "mimetype": "text/x-python",
   "name": "python",
   "nbconvert_exporter": "python",
   "pygments_lexer": "ipython3",
   "version": "3.11.5"
  }
 },
 "nbformat": 4,
 "nbformat_minor": 4
}
